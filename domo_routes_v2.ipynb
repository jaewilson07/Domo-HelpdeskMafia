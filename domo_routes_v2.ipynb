{
 "cells": [
  {
   "cell_type": "code",
   "execution_count": 2,
   "metadata": {},
   "outputs": [],
   "source": [
    "import domolibrary.client.get_data as gd\n",
    "import domolibrary.client.DomoError as dmde"
   ]
  },
  {
   "cell_type": "code",
   "execution_count": 24,
   "metadata": {},
   "outputs": [],
   "source": [
    "import domolibrary.client.DomoAuth as dmda\n",
    "import os\n",
    "\n",
    "auth = dmda.DomoTokenAuth(\n",
    "    domo_access_token=os.environ[\"DOMO_ACCESS_TOKEN\"],\n",
    "    domo_instance=os.environ[\"DOMO_INSTANCE\"],\n",
    ")\n",
    "\n",
    "await auth.who_am_i()\n",
    "\n",
    "model_id = \"48707704-213c-4c82-8a7d-69505b50a8de\"\n",
    "version_id = \"1.0.4\"\n",
    "starting_block = \"Start%20HelpDeskMafia\""
   ]
  },
  {
   "cell_type": "code",
   "execution_count": 4,
   "metadata": {},
   "outputs": [],
   "source": [
    "async def get_workflow(\n",
    "    auth: dmda.DomoAuth, model_id, version_id, debug_api: bool = False\n",
    "):\n",
    "\n",
    "    url = f\"https://{auth.domo_instance}.domo.com/api/workflow/v1/models/{model_id}/versions/{version_id}\"\n",
    "    res = await gd.get_data(auth=auth, method=\"GET\", url=url, debug_api=debug_api)\n",
    "\n",
    "    if not res.is_success:\n",
    "        raise dmde.RouteError(res=res)\n",
    "\n",
    "    return res"
   ]
  },
  {
   "cell_type": "code",
   "execution_count": 5,
   "metadata": {},
   "outputs": [
    {
     "name": "stdout",
     "output_type": "stream",
     "text": [
      "('{\"version\":2,\"designElements\":[{\"id\":\"rootNode\",\"type\":\"rootNode\",\"position\":{\"x\":60,\"y\":30},\"data\":{\"dimensions\":{\"width\":200,\"height\":60},\"title\":\"Start '\n",
      " 'HelpDeskMafia\",\"description\":\"\",\"type\":\"Start\",\"_designNode\":\"rootNode\",\"isFormStart\":false,\"formId\":null,\"input\":[{\"children\":[],\"configType\":null,\"customMappingType\":null,\"dataType\":\"text\",\"displayName\":\"question\",\"entitySubType\":null,\"flag\":\"input\",\"id\":\"nvdXKDGoXWJKIln\",\"isList\":false,\"mappedTo\":\"HHwmUJbOuALMwWw\",\"paramName\":\"question\",\"required\":true,\"value\":null,\"visible\":true,\"engineName\":\"question\"}]},\"style\":{\"zIndex\":3,\"outline\":\"none\"},\"index\":0},{\"id\":\"zXTsAKikLbRiJaK\",\"type\":\"AI_AGENT\",\"position\":{\"x\":60,\"y\":210},\"data\":{\"dimensions\":{\"width\":200,\"height\":60},\"title\":\"FindKB '\n",
      " 'Article\",\"description\":\"This agent takes an input question and attempts to '\n",
      " 'locate the most likely KB article and '\n",
      " 'answer.\",\"prompt\":{\"children\":[],\"configType\":null,\"customMappingType\":null,\"dataType\":\"text\",\"displayName\":\"Prompt\",\"entitySubType\":null,\"flag\":\"input\",\"id\":\"JveXnPQIDjKkKVr\",\"isList\":false,\"mappedTo\":\"HHwmUJbOuALMwWw\",\"paramName\":\"prompt\",\"required\":true,\"value\":null,\"visible\":true,\"engineName\":\"prompt\"},\"inputMessages\":null,\"outputMessages\":null,\"result\":{\"children\":[{\"children\":[],\"configType\":null,\"customMappingType\":null,\"dataType\":\"text\",\"displayName\":\"\",\"entitySubType\":null,\"flag\":\"output\",\"id\":\"xOOhKMnJXxmqdds.hdQCvMlTZolGVuc\",\"isList\":false,\"mappedTo\":\"eGYNhECcNSbquoq\",\"paramName\":\"answer\",\"required\":true,\"value\":null,\"visible\":true,\"engineName\":\"result.answer\"}],\"configType\":null,\"customMappingType\":null,\"dataType\":\"object\",\"displayName\":\"Result\",\"entitySubType\":null,\"flag\":\"output\",\"id\":\"xOOhKMnJXxmqdds\",\"isList\":false,\"mappedTo\":\"CSTOXgkRvkEpLfI\",\"paramName\":\"result\",\"required\":true,\"value\":null,\"visible\":true,\"engineName\":\"result\"},\"agent\":{\"instructions\":\"Please '\n",
      " 'identify the top 10 paragraphs from the vectorDB and then attempt to answer '\n",
      " \"the user's question from the source information only.\\\\n\\\\nIf you don't get \"\n",
      " 'a good answer on the first try, you can expand the search space (number of '\n",
      " 'paragraphs to looks at) and try different more descriptive variations of the '\n",
      " 'users question.\\\\n\\\\nCan you summarize your response to under 200 '\n",
      " 'characters. Please ensure that you include the attempted answer and any '\n",
      " 'relevant urls from the knowledge base that you used to come up with the '\n",
      " 'response.\",\"tools\":[{\"packageId\":\"9a2f8f7a-b0bd-49d6-8bc7-641453b3df24\",\"packageVersion\":\"1.0.0\",\"functionName\":\"queryIndex\",\"functionDescription\":\"function '\n",
      " 'queries knowledge base articles and returns the most relevant paragraphs '\n",
      " 'from these articles; '\n",
      " '\",\"inputs\":[{\"children\":[],\"configType\":null,\"customMappingType\":null,\"dataType\":\"text\",\"displayName\":\"indexId\",\"entitySubType\":null,\"flag\":\"input\",\"id\":\"sJZakmCPIdurjzL\",\"isList\":false,\"mappedTo\":null,\"paramName\":\"indexId\",\"required\":true,\"value\":\"helpdeskmafia\",\"visible\":true,\"engineName\":\"indexId\"},{\"children\":[],\"configType\":null,\"customMappingType\":null,\"dataType\":\"text\",\"displayName\":\"input\",\"entitySubType\":null,\"flag\":\"input\",\"id\":\"UCrudlbIeOKxlVa\",\"isList\":false,\"mappedTo\":null,\"paramName\":\"input\",\"required\":true,\"value\":null,\"visible\":true,\"engineName\":\"input\"},{\"children\":[],\"configType\":null,\"customMappingType\":null,\"dataType\":\"number\",\"displayName\":\"topK\",\"entitySubType\":null,\"flag\":\"input\",\"id\":\"qIYmXCItMfGMsns\",\"isList\":false,\"mappedTo\":null,\"paramName\":\"topK\",\"required\":true,\"value\":null,\"visible\":true,\"engineName\":\"topK\"}],\"inputDescriptions\":{\"UCrudlbIeOKxlVa\":\"Input '\n",
      " 'question\",\"qIYmXCItMfGMsns\":\"number of results to '\n",
      " 'return\",\"sJZakmCPIdurjzL\":\"\"},\"output\":{\"children\":[],\"configType\":null,\"customMappingType\":null,\"dataType\":\"object\",\"displayName\":\"response\",\"entitySubType\":null,\"flag\":\"output\",\"id\":\"DrtlkvILZCroYJd\",\"isList\":false,\"mappedTo\":null,\"paramName\":\"response\",\"required\":false,\"value\":null,\"visible\":true,\"engineName\":\"response\"},\"id\":\"mbdUjBxtDvCRxcx\",\"name\":\"Query '\n",
      " 'Index\",\"type\":\"CODE_ENGINE_FUNCTION\",\"description\":\"function queries '\n",
      " 'knowledge base articles and returns the most relevant paragraphs from these '\n",
      " 'articles; '\n",
      " '\"}],\"runTool\":true,\"isSolver\":false,\"outputDescriptions\":{\"xOOhKMnJXxmqdds\":\"answer '\n",
      " 'to the users '\n",
      " 'question\"}},\"_designNode\":\"AI_AGENT\"},\"style\":{\"zIndex\":4,\"outline\":\"none\"},\"index\":1},{\"id\":\"pYNRmCuxDmpzzJT\",\"type\":\"endNode\",\"position\":{\"x\":60,\"y\":380},\"data\":{\"dimensions\":{\"width\":200,\"height\":60},\"title\":\"End\",\"description\":\"\",\"_designNode\":\"endNode\",\"terminating\":false},\"style\":{\"zIndex\":4,\"outline\":\"none\"},\"index\":2},{\"id\":\"edge-rootNode-zXTsAKikLbRiJaK-zxIhHYnIilZwVpp\",\"type\":\"defaultEdge\",\"source\":\"rootNode\",\"target\":\"zXTsAKikLbRiJaK\",\"data\":{\"sourcePosition\":\"bottom\",\"targetPosition\":\"top\",\"path\":[[160,90],[160,209]],\"title\":\"\"},\"style\":{\"zIndex\":5},\"index\":3,\"arrowHeadType\":\"arrow\"},{\"id\":\"edge-zXTsAKikLbRiJaK-pYNRmCuxDmpzzJT-XlxdzsTfXywlyNd\",\"type\":\"defaultEdge\",\"source\":\"zXTsAKikLbRiJaK\",\"target\":\"pYNRmCuxDmpzzJT\",\"data\":{\"sourcePosition\":\"bottom\",\"targetPosition\":\"top\",\"path\":[[160,270],[160,379]],\"title\":\"\"},\"style\":{\"zIndex\":5},\"index\":4,\"arrowHeadType\":\"arrow\"}],\"dataList\":[{\"id\":\"eGYNhECcNSbquoq\",\"paramName\":\"answer\",\"dataType\":\"text\",\"isList\":false,\"children\":[],\"showChildren\":false,\"entitySubType\":null,\"value\":null},{\"id\":\"HHwmUJbOuALMwWw\",\"paramName\":\"question\",\"dataType\":\"text\",\"isList\":false,\"children\":[],\"showChildren\":false,\"entitySubType\":null,\"value\":null},{\"id\":\"CSTOXgkRvkEpLfI\",\"paramName\":\"result\",\"dataType\":\"object\",\"isList\":false,\"children\":[],\"showChildren\":false,\"entitySubType\":null,\"value\":null}]}')\n"
     ]
    }
   ],
   "source": [
    "res = await get_workflow(\n",
    "    auth=auth, model_id=model_id, version_id=version_id, debug_api=False\n",
    ")\n",
    "\n",
    "from pprint import pprint\n",
    "\n",
    "pprint(res.response[\"savedJson\"])"
   ]
  },
  {
   "cell_type": "code",
   "execution_count": 6,
   "metadata": {},
   "outputs": [],
   "source": [
    "import domolibrary.client.get_data as gd\n",
    "import domolibrary.client.DomoError as dmde\n",
    "\n",
    "\n",
    "def generate_trigger_workflow_body(starting_tile, model_id, version_id, execution_params : dict):\n",
    "    return {\n",
    "        \"messageName\": starting_tile,\n",
    "        \"version\": version_id,\n",
    "        \"modelId\": model_id,\n",
    "        \"data\": execution_params,\n",
    "    }\n",
    "\n",
    "\n",
    "async def trigger_workflow(\n",
    "    auth: dmda.DomoAuth,\n",
    "    starting_tile: str,\n",
    "    model_id: str,\n",
    "    version_id: str,\n",
    "    execution_parameters: dict = None,\n",
    "    debug_api: bool = False,\n",
    "):\n",
    "    body = generate_trigger_workflow_body(\n",
    "        starting_tile=starting_tile,\n",
    "        model_id=model_id,\n",
    "        execution_params=execution_parameters,\n",
    "        version_id=version_id\n",
    "    )\n",
    "\n",
    "    url = f\"https://{auth.domo_instance}.domo.com/api/workflow/v1/instances/message\"\n",
    "\n",
    "    res = await gd.get_data(\n",
    "        method=\"POST\", url=url, body=body, auth=auth, debug_api=debug_api\n",
    "    )\n",
    "\n",
    "    if not res.is_success:\n",
    "        raise dmde.RouteError(res=res)\n",
    "\n",
    "    return res"
   ]
  },
  {
   "cell_type": "code",
   "execution_count": 7,
   "metadata": {},
   "outputs": [],
   "source": [
    "execution_parameters = {\"question\": \"what is a beast mode\"}\n",
    "starting_tile = \"Start HelpDeskMafia\"\n",
    "\n",
    "res = await trigger_workflow(\n",
    "    auth=auth,\n",
    "    starting_tile=starting_tile,\n",
    "    model_id=model_id,\n",
    "    version_id=version_id,\n",
    "    execution_parameters= execution_parameters,\n",
    "    debug_api=False,\n",
    ")\n",
    "\n"
   ]
  },
  {
   "cell_type": "code",
   "execution_count": 8,
   "metadata": {},
   "outputs": [
    {
     "data": {
      "text/plain": [
       "{'id': '164b53d1-c9e3-48e3-828e-bf8971e988a2',\n",
       " 'modelId': '48707704-213c-4c82-8a7d-69505b50a8de',\n",
       " 'deploymentId': 'abc3bc1b-478a-49aa-8b8c-34d283a6f6df',\n",
       " 'modelName': 'HelpDeskMafia',\n",
       " 'modelVersion': '1.0.3',\n",
       " 'bpmnProcessId': 'Process_48707704-213c-4c82-8a7d-69505b50a8de_1.0.3_1',\n",
       " 'bpmnProcessName': 'mmmm-0012-0200 HelpDeskMafia 1.0.3 1',\n",
       " 'createdBy': '475856860',\n",
       " 'createdOn': '2025-03-16T21:39:31.127Z',\n",
       " 'updatedBy': '475856860',\n",
       " 'updatedOn': '2025-03-16T21:39:31.127Z',\n",
       " 'status': 'IN_PROGRESS',\n",
       " 'isTestRun': False}"
      ]
     },
     "execution_count": 8,
     "metadata": {},
     "output_type": "execute_result"
    }
   ],
   "source": [
    "res.response"
   ]
  },
  {
   "cell_type": "code",
   "execution_count": 9,
   "metadata": {},
   "outputs": [],
   "source": [
    "async def get_workflow_trigger_history(auth : dmda.DomoAuth, model_id, debug_api : bool = False):\n",
    "\n",
    "    url = f'https://{auth.domo_instance}.domo.com/api/workflow/v2/executions/{model_id}'\n",
    "\n",
    "    res = await gd.get_data(auth=auth, method=\"GET\", url=url, debug_api=debug_api)\n",
    "\n",
    "    if not res.is_success:\n",
    "        raise dmde.RouteError(res=res)\n",
    "    \n",
    "    return res\n"
   ]
  },
  {
   "cell_type": "code",
   "execution_count": 12,
   "metadata": {},
   "outputs": [
    {
     "name": "stdout",
     "output_type": "stream",
     "text": [
      "🐛 debugging get_data\n",
      "{'body': None,\n",
      " 'function_name': 'get_traceback',\n",
      " 'headers': {'Connection': 'keep-alive',\n",
      "             'Content-Type': 'application/json',\n",
      "             'accept': 'application/json, text/plain',\n",
      "             'x-domo-developer-token': 'a9f28c9a3f100348ba97858f6f944ce97be421eb5817fcc7'},\n",
      " 'method': 'GET',\n",
      " 'params': None,\n",
      " 'parent_class': None,\n",
      " 'url': 'https://domo-community.domo.com/api/workflow/v2/executions/48707704-213c-4c82-8a7d-69505b50a8de'}\n",
      "get_data: no body\n",
      "get_data_response <Response [404 Not Found]>\n"
     ]
    }
   ],
   "source": [
    "try:\n",
    "    await get_workflow_trigger_history(auth = auth, model_id= model_id, debug_api= True)\n",
    "\n",
    "except Exception as e:\n",
    "    pass"
   ]
  },
  {
   "cell_type": "code",
   "execution_count": 21,
   "metadata": {},
   "outputs": [],
   "source": [
    "async def get_workflow_executions(auth : dmda.DomoAuth,\n",
    "                                  model_id: str,\n",
    "                                  version_id: str,\n",
    "                                  debug_api : bool = False\n",
    "                                  ):\n",
    "    params = {\"modelId\" : model_id,\n",
    "            #   \"triggerTypes\" : \"ALERT,API,APP_STUDIO,CUSTOM_APP,MANUAL,TIMER,WORKFLOW\"\n",
    "              \"version\" : version_id,\n",
    "              # \"status\"  : \"IN_PROGRESS\"\n",
    "    }\n",
    "    \n",
    "    url = f\"https://{auth.domo_instance}.domo.com/api/workflow/v2/executions\"\n",
    "\n",
    "    res = await gd.get_data(auth=auth, method=\"GET\", url=url, debug_api=debug_api, params = params)\n",
    "\n",
    "    if not res.is_success:\n",
    "        raise dmde.RouteError(res=res)\n",
    "    \n",
    "    return res\n",
    "\n",
    "    "
   ]
  },
  {
   "cell_type": "code",
   "execution_count": 26,
   "metadata": {},
   "outputs": [
    {
     "name": "stdout",
     "output_type": "stream",
     "text": [
      "🐛 debugging get_data\n",
      "{'body': None,\n",
      " 'function_name': 'get_traceback',\n",
      " 'headers': {'Connection': 'keep-alive',\n",
      "             'Content-Type': 'application/json',\n",
      "             'accept': 'application/json, text/plain',\n",
      "             'x-domo-developer-token': 'a9f28c9a3f100348ba97858f6f944ce97be421eb5817fcc7'},\n",
      " 'method': 'GET',\n",
      " 'params': {'modelId': '48707704-213c-4c82-8a7d-69505b50a8de',\n",
      "            'version': '1.0.4'},\n",
      " 'parent_class': None,\n",
      " 'url': 'https://domo-community.domo.com/api/workflow/v2/executions'}\n",
      "get_data: no body\n",
      "get_data_response <Response [200 OK]>\n"
     ]
    },
    {
     "data": {
      "text/plain": [
       "{'id': '164b53d1-c9e3-48e3-828e-bf8971e988a2',\n",
       " 'modelId': '48707704-213c-4c82-8a7d-69505b50a8de',\n",
       " 'deploymentId': 'abc3bc1b-478a-49aa-8b8c-34d283a6f6df',\n",
       " 'modelName': 'HelpDeskMafia',\n",
       " 'modelVersion': '1.0.3',\n",
       " 'bpmnProcessId': 'Process_48707704-213c-4c82-8a7d-69505b50a8de_1.0.3_1',\n",
       " 'bpmnProcessName': 'mmmm-0012-0200 HelpDeskMafia 1.0.3 1',\n",
       " 'createdBy': '475856860',\n",
       " 'createdOn': '2025-03-16T21:39:31.127Z',\n",
       " 'updatedBy': '475856860',\n",
       " 'updatedOn': '2025-03-16T21:39:31.127Z',\n",
       " 'status': 'IN_PROGRESS',\n",
       " 'isTestRun': False}"
      ]
     },
     "execution_count": 26,
     "metadata": {},
     "output_type": "execute_result"
    }
   ],
   "source": [
    "await get_workflow_executions(auth = auth,\n",
    "                                  model_id = model_id,\n",
    "                                  version_id = version_id,\n",
    "                                  debug_api = True\n",
    ")\n",
    "\n",
    "res.response"
   ]
  }
 ],
 "metadata": {
  "kernelspec": {
   "display_name": ".venv",
   "language": "python",
   "name": "python3"
  },
  "language_info": {
   "codemirror_mode": {
    "name": "ipython",
    "version": 3
   },
   "file_extension": ".py",
   "mimetype": "text/x-python",
   "name": "python",
   "nbconvert_exporter": "python",
   "pygments_lexer": "ipython3",
   "version": "3.10.9"
  }
 },
 "nbformat": 4,
 "nbformat_minor": 2
}
