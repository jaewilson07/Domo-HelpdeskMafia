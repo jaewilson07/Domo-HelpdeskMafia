{
 "cells": [
  {
   "cell_type": "code",
   "execution_count": 1,
   "metadata": {},
   "outputs": [
    {
     "name": "stdout",
     "output_type": "stream",
     "text": [
      "Collecting python-dotenv\n",
      "  Using cached python_dotenv-1.0.1-py3-none-any.whl.metadata (23 kB)\n",
      "Requirement already satisfied: slack-bolt in d:\\github\\domo-helpdeskmafia\\.venv\\lib\\site-packages (1.22.0)\n",
      "Requirement already satisfied: slack_sdk<4,>=3.33.5 in d:\\github\\domo-helpdeskmafia\\.venv\\lib\\site-packages (from slack-bolt) (3.34.0)\n",
      "Using cached python_dotenv-1.0.1-py3-none-any.whl (19 kB)\n",
      "Installing collected packages: python-dotenv\n",
      "Successfully installed python-dotenv-1.0.1\n",
      "Note: you may need to restart the kernel to use updated packages.\n"
     ]
    }
   ],
   "source": [
    "%pip install python-dotenv slack-bolt"
   ]
  },
  {
   "cell_type": "code",
   "execution_count": null,
   "metadata": {},
   "outputs": [],
   "source": [
    "import os\n",
    "from dotenv import load_dotenv\n",
    "import random\n",
    "from slack_bolt import App\n",
    "from slack_bolt.adapter.socket_mode import SocketModeHandler\n",
    "\n",
    "load_dotenv()\n",
    "\n",
    "\n",
    "# Initializes your app with your bot token and app token\n",
    "app = App(\n",
    "    token=os.environ[\"SLACK_BOT_TOKEN\"],\n",
    "    signing_secret=os.environ[\"SLACK_SIGNING_SECRET\"],\n",
    ")\n",
    "\n",
    "\n",
    "@app.message(\"hello\")\n",
    "def message_hello(message, say):\n",
    "    user = message[\"user\"]\n",
    "\n",
    "    say(f\"hey there <@{user}>!\")\n",
    "\n",
    "\n",
    "@app.event(\"app_mention\")  # Listen for app mentions\n",
    "def handle_app_mention(event, say):\n",
    "    \"\"\"Handles app mentions and responds with a random yes/no.\"\"\"\n",
    "\n",
    "    print('mention')\n",
    "\n",
    "    question = event[\"text\"]  # Get the text of the message\n",
    "    response = random.choice([\"Yes\", \"No\"])  # Generate a random response\n",
    "\n",
    "    say(\n",
    "        f\"You asked: {question}\\nMy answer is: {response}\"\n",
    "    )  # Send the response back to Slack\n",
    "\n",
    "\n"
   ]
  },
  {
   "cell_type": "code",
   "execution_count": 3,
   "metadata": {},
   "outputs": [
    {
     "name": "stdout",
     "output_type": "stream",
     "text": [
      "{'ok': True, 'url': 'https://helpdeskmafiainc.slack.com/', 'team': 'Help Desk Mafia Inc.', 'user': 'mafiahelpdeskbot', 'team_id': 'T08HR2YRT0W', 'user_id': 'U08HGSAP9K9', 'bot_id': 'B08HGSAP8TZ', 'is_enterprise_install': False}\n"
     ]
    }
   ],
   "source": [
    "print(app.client.auth_test())"
   ]
  },
  {
   "cell_type": "code",
   "execution_count": null,
   "metadata": {},
   "outputs": [
    {
     "name": "stdout",
     "output_type": "stream",
     "text": [
      "Bolt app is running!\n"
     ]
    }
   ],
   "source": [
    "SocketModeHandler(app, os.environ[\"SLACK_APP_TOKEN\"]).start()\n"
   ]
  }
 ],
 "metadata": {
  "kernelspec": {
   "display_name": ".venv",
   "language": "python",
   "name": "python3"
  },
  "language_info": {
   "codemirror_mode": {
    "name": "ipython",
    "version": 3
   },
   "file_extension": ".py",
   "mimetype": "text/x-python",
   "name": "python",
   "nbconvert_exporter": "python",
   "pygments_lexer": "ipython3",
   "version": "3.10.9"
  }
 },
 "nbformat": 4,
 "nbformat_minor": 2
}
